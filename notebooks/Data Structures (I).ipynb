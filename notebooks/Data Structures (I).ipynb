{
 "cells": [
  {
   "cell_type": "markdown",
   "metadata": {},
   "source": [
    "## Basic Data Structures"
   ]
  },
  {
   "cell_type": "markdown",
   "metadata": {},
   "source": [
    "***\n",
    "$\\mathbf{\\text{Linked List}}$<br>\n",
    "***"
   ]
  },
  {
   "cell_type": "code",
   "execution_count": 1,
   "metadata": {},
   "outputs": [],
   "source": [
    "class Node:\n",
    "    def __init__(self, value):\n",
    "        self.value = value\n",
    "        self.next = None\n",
    "\n",
    "class LinkedList:\n",
    "    def __init__(self, items):\n",
    "        ...\n",
    "\n",
    "    @property\n",
    "    def is_empty(self):\n",
    "        return self.head is None\n",
    "\n",
    "    def __str__(self, end=\" -> \"):\n",
    "        \"Prints the list\"\n",
    "        value = \"\"\n",
    "        if self.is_empty: return end + \"nil\"\n",
    "        temp = self.head\n",
    "        while temp.next is not None:\n",
    "            value += str(temp.data) + end\n",
    "            temp = temp.next\n",
    "        value += str(temp.data) + end + \"nil\"\n",
    "        return value\n",
    "    \n",
    "    def append_tail(self, value):\n",
    "        \"Add element to the end of the list\"\n",
    "        ...\n",
    "\n",
    "    def append_head(self, value):\n",
    "        \"Add element to the beginning of the list\"\n",
    "        ...\n",
    "\n",
    "    def __contains__(self, value):\n",
    "        \"Check if the list contains a given value\"\n",
    "        ...\n",
    "\n",
    "    def remove(self, value):\n",
    "        \"Remove a value from the list if it exists\"\n",
    "        ...\n",
    "\n",
    "    def __len__(self, value):\n",
    "        \"Return the count of nodes in the list\"\n",
    "        ...\n"
   ]
  },
  {
   "cell_type": "code",
   "execution_count": null,
   "metadata": {},
   "outputs": [],
   "source": [
    "#### Reverse a Linked List (in-place)"
   ]
  },
  {
   "cell_type": "code",
   "execution_count": null,
   "metadata": {},
   "outputs": [],
   "source": [
    "#### Implement Doubly Linked List"
   ]
  },
  {
   "cell_type": "code",
   "execution_count": null,
   "metadata": {},
   "outputs": [],
   "source": [
    "#### Detect a loop in the Linked List"
   ]
  },
  {
   "cell_type": "code",
   "execution_count": null,
   "metadata": {},
   "outputs": [],
   "source": [
    "#### Find middle node of a Linked List"
   ]
  },
  {
   "cell_type": "code",
   "execution_count": null,
   "metadata": {},
   "outputs": [],
   "source": [
    "#### Remove duplicates from the list"
   ]
  },
  {
   "cell_type": "code",
   "execution_count": null,
   "metadata": {},
   "outputs": [],
   "source": [
    "#### Find the Nth node from the end"
   ]
  },
  {
   "cell_type": "code",
   "execution_count": null,
   "metadata": {},
   "outputs": [],
   "source": [
    "#### Delete a node with only a pointer to the node"
   ]
  },
  {
   "cell_type": "markdown",
   "metadata": {},
   "source": [
    "#### Even/Odd Partition\n",
    "Given a singly linked list, arrange the nodes such that all even **index** nodes appear before the **odd** index nodes.\n",
    "Must use O(1) space.\n",
    "\n",
    "```\n",
    "Input: 1 -> 2 -> 3 -> 4 -> 5\n",
    "Output: 1 -> 3 -> 5 -> 2 -> 4\n",
    "```\n",
    "All the even index nodes go first, followed by the odd. The relative ordering of the nodes is maintained."
   ]
  },
  {
   "cell_type": "code",
   "execution_count": null,
   "metadata": {},
   "outputs": [],
   "source": [
    "#### Union and Intersection of Linked Lists"
   ]
  },
  {
   "cell_type": "markdown",
   "metadata": {},
   "source": [
    "***\n",
    "$\\mathbf{\\text{Stack}}$<br>\n",
    "***"
   ]
  },
  {
   "cell_type": "code",
   "execution_count": 2,
   "metadata": {
    "tags": []
   },
   "outputs": [],
   "source": [
    "class Stack:\n",
    "    \"A Stack is a Last-In-First-Out sequence of items.\"\n",
    "    def __init__(self, items):\n",
    "        ...\n",
    "    \n",
    "    @property\n",
    "    def is_empty(self):\n",
    "        ...\n",
    "\n",
    "    def top(self):\n",
    "        ...\n",
    "\n",
    "    def push(self):\n",
    "        ...\n",
    "    \n",
    "    def pop(self):\n",
    "        ...\n",
    "\n",
    "    def size(self):\n",
    "        return len(self)"
   ]
  },
  {
   "cell_type": "markdown",
   "metadata": {},
   "source": [
    "#### Sort Values with a Stack\n",
    "Implement a function called `sort_stack()` which takes a stack and sorts all of its elements in ascending order such that when they are *popped and printed*, they come out in **ascending order**.\n",
    "#### Sample Input\n",
    "```\n",
    "stack = [23, 60, 12, 42, 4, 97, 2]\n",
    "```\n",
    "#### Sample Output\n",
    "```\n",
    "result = [97, 60, 42, 23, 12, 4, 2]\n",
    "# 2 was the value last pushed\n",
    "```"
   ]
  },
  {
   "cell_type": "markdown",
   "metadata": {},
   "source": [
    "#### Evaluate Postfix Expression Using a Stack\n",
    "The usual convention followed in mathematics is the *infix expression*. Operators like `+` and `*` appear between the two numbers involved in the calculation:\n",
    "```\n",
    "6 + 3 * 8 - 4\n",
    "```\n",
    "Another convention is the *postfix* expression where the operators appear after the two numbers involved in the expression. In *postfix*, the expression written above will be presented as:\n",
    "```\n",
    "6 3 8 * + 4 -\n",
    "```\n",
    "\n",
    "The two digits preceding an operator will be used with that operator\n",
    "\n",
    "1. From the first block of digits `6 3 8`, we pick the last two which are `3` and `8`.\n",
    "2. Reading the operators from left to right, the first one is `*`. The expression now becomes `3 * 8`\n",
    "3. The next number is `6` while the next operator is `+`, so we have `6 + 8 * 3`.\n",
    "4. The value of this expression is followed by `4`, which is right before `-`. Hence we have `6 + 8 * 3 - 4`.\n",
    "\n",
    "Implement a function called `evaluatePostFix()` that will compute a postfix expression given to it as a string.\n",
    "##### Sample Input\n",
    "```\n",
    "exp = \"921*-8-4+\"\n",
    "```\n",
    "##### Sample Output\n",
    "`3`"
   ]
  },
  {
   "cell_type": "markdown",
   "metadata": {},
   "source": [
    "#### Next Greater Element in a Stack\n",
    "You must implement the `next_greater()` function. For each element *i* in a list, it finds the first element to its right which is greater than *i*. For any element that such a value does not exist, the answer is `-1`.\n",
    "##### Sample Input\n",
    "```\n",
    "list = [4, 6, 3, 2, 8, 1]\n",
    "```\n",
    "##### Sample Output\n",
    "```\n",
    "result = [6, 8, 8, 8, -1, -1]\n",
    "```"
   ]
  },
  {
   "cell_type": "markdown",
   "metadata": {},
   "source": [
    "#### Check Balanced Parentheses using Stack\n",
    "Implement the `is_balanced()` function which will take a string containing only curly `{}`, square `[]`, and round `()` parentheses. The function will tell us whether all the parentheses in the string are balanced or not.\n",
    "For all the parentheses to be balanced, every opening parenthesis must have a closing one. The order in which they appear also matters. For example, `{[]}` is balanced, but `{[}]` is not.\n",
    "##### Sample Input\n",
    "`exp = \"{[({})]}\"`\n",
    "##### Sample Output\n",
    "`True`"
   ]
  },
  {
   "cell_type": "markdown",
   "metadata": {},
   "source": [
    "#### min() in a Stack\n",
    "You have to implement the `MinStack` class which will have a `min()` function. Whenever `min()` is called, the minimum value of the stack is returned in *O(1)* time. The element is not popped from the stack. Its value is simply returned."
   ]
  },
  {
   "cell_type": "markdown",
   "metadata": {},
   "source": [
    "***\n",
    "$\\mathbf{\\text{Queue}}$<br>\n",
    "***\n",
    "Queues are a First-In-First-Out (FIFO) collection. This means that items are removed from the\n",
    "queue in the same order that they were added. You can think of a queue like a line at a store\n",
    "checkout counter—people enter the line and are serviced in the order they arrive.\n",
    "Queues are used for implementing caches and buffers.\n",
    "\n",
    "Queues are commonly used in applications to provide a buffer to add items for future\n",
    "processing or to provide orderly access to a shared resource. For example, if a database is\n",
    "capable of handling only one connection, a queue might be used to allow threads to wait their\n",
    "turn (in order) to access the database."
   ]
  },
  {
   "cell_type": "code",
   "execution_count": null,
   "metadata": {},
   "outputs": [],
   "source": [
    "class Queue:\n",
    "    \"A Queue is a First-In-First-Out sequence of items.\"\n",
    "    def __init__(self, items):\n",
    "        ...\n",
    "\n",
    "    @property\n",
    "    def is_empty(self):\n",
    "        ...\n",
    "\n",
    "    def front(self):\n",
    "        ...\n",
    "\n",
    "    def back(self):\n",
    "        ...\n",
    "\n",
    "    def enqueue(self, item):\n",
    "        ...\n",
    "\n",
    "    def dequeue(self, item):\n",
    "        ...\n",
    "\n",
    "    def size(self):\n",
    "        return len(self)"
   ]
  },
  {
   "cell_type": "markdown",
   "metadata": {},
   "source": [
    "#### Binary Numbers using a Queue\n",
    "Implement a function `find_bin(n)` which will generate binary numbers from 1 till n in the form of a string using a queue.\n",
    "#### Sample Input\n",
    "`n = 3`\n",
    "#### Sample Output\n",
    "`[\"1\",\"10\",\"11\"]`"
   ]
  },
  {
   "cell_type": "markdown",
   "metadata": {},
   "source": [
    "#### Implement a Queue using Stacks\n",
    "You have to implement the `enqueue()` and `dequeue()` functions using the Stack class we created earlier. `enqueue()` will insert a value into the queue and `dequeue()` will remove a value from the queue.\n",
    "#### Input\n",
    "- `enqueue():` A value to insert into the queue.\n",
    "- `dequeue():` Does not require inputs.\n",
    "#### Output\n",
    "- `enqueue():` Returns `True` after inserting the value into the queue.\n",
    "- `dequeue():` Pops out and returns the oldest value in the queue.\n",
    "\n",
    "#### Sample Input\n",
    "```\n",
    "value = 5 # [1, 2, 3, 4]\n",
    "enqueue(value)\n",
    "dequeue()\n",
    "```\n",
    "#### Sample Output\n",
    "```\n",
    "True # [1, 2, 3, 4, 5]\n",
    "1 # [2, 3, 4, 5]\n",
    "```"
   ]
  },
  {
   "cell_type": "markdown",
   "metadata": {},
   "source": [
    "#### Reversing first k Elements of Queue\n",
    "Implement the function reverseK(queue, k) which takes a queue and a number “k” as input and reverses the first “k” elements of the queue.\n",
    "#### Output\n",
    "The queue with first “k” elements reversed. Remember to return the queue itself!\n",
    "> In case the value of “k” is larger than the size of the queue, is smaller than 0, or if the queue is empty, simply return None instead.\n",
    "\n",
    "#### Sample Input\n",
    "`Queue = [1,2,3,4,5,6,7,8,9,10], k = 5`\n",
    "#### Sample Output\n",
    "`Queue = [5,4,3,2,1,6,7,8,9,10]`"
   ]
  },
  {
   "cell_type": "markdown",
   "metadata": {},
   "source": [
    "***\n",
    "$\\mathbf{\\text{Hash Table}}$<br>\n",
    "***"
   ]
  },
  {
   "cell_type": "code",
   "execution_count": null,
   "metadata": {},
   "outputs": [],
   "source": [
    "class HashTable:\n",
    "    \"A HashTable is a mapping of key-value pairs\"\n",
    "    def __init__(self):\n",
    "        ...\n",
    "\n",
    "    def size(self):\n",
    "        \"Return the length of the hash\"\n",
    "        ...\n",
    "\n",
    "    def add(self, key, value):\n",
    "        \"Add key-value pair\"\n",
    "        ...\n",
    "\n",
    "    def resize(self):\n",
    "        \"Resize the table and rehash entries\"\n",
    "        ...\n",
    "\n",
    "    def __contains__(self, key):\n",
    "        \"Check for key in the hash\"\n",
    "        ...\n",
    "\n",
    "    def remove(self, key):\n",
    "        \"Delete a key-value entry from hash\"\n",
    "        ..."
   ]
  },
  {
   "cell_type": "markdown",
   "metadata": {},
   "source": [
    "<img src=\"assets/HashTable_Chained.png\" width=450 style=\"background:white\">\n",
    "\n",
    "#### Collisions\n",
    "#### Separate Chaining vs Open Addressing\n",
    "**Open Addressing** is better suited for tables with small records that can fit in a cache line (one-word or less).\n",
    "If the table is expected to have a high load factor, the records are large, or the data is variable-sized, chained hash tables often perform as well or better.\n",
    "\n",
    "**Separate Chaining** can use a dynamic array, linked list or search tree (to improve lookup worst case guarantee)\n",
    "Note that Python dicts uses open addressing with random probe.\n"
   ]
  },
  {
   "cell_type": "code",
   "execution_count": null,
   "metadata": {},
   "outputs": [],
   "source": [
    "#### Check if lists intersect"
   ]
  },
  {
   "cell_type": "code",
   "execution_count": null,
   "metadata": {},
   "outputs": [],
   "source": [
    "#### Find Symmetric Pairs"
   ]
  },
  {
   "cell_type": "code",
   "execution_count": null,
   "metadata": {},
   "outputs": [],
   "source": [
    "#### Tracing Complete Paths"
   ]
  },
  {
   "cell_type": "code",
   "execution_count": null,
   "metadata": {},
   "outputs": [],
   "source": [
    "#### Find Two Pairs a + b = c + d"
   ]
  },
  {
   "cell_type": "code",
   "execution_count": null,
   "metadata": {},
   "outputs": [],
   "source": [
    "#### A Sublist with a Sum of 0"
   ]
  },
  {
   "cell_type": "code",
   "execution_count": null,
   "metadata": {},
   "outputs": [],
   "source": [
    "#### First Non-Repeating Integer in a list"
   ]
  },
  {
   "cell_type": "markdown",
   "metadata": {},
   "source": [
    "#### Implement LRU Cache with the operations:\n",
    "- put(value) in O(1)\n",
    "- get(value) in O(1)"
   ]
  },
  {
   "cell_type": "markdown",
   "metadata": {},
   "source": [
    "***\n",
    "$\\mathbf{\\text{Trees}}$<br>\n",
    "***"
   ]
  },
  {
   "cell_type": "markdown",
   "metadata": {},
   "source": [
    "Trees consist of nodes and edges that connect them. The nodes are ordered in a hierarchy and there is always exactly one path between two nodes, which means cycles cannot exist.\n",
    "- **Root Node**: A node with no parent nodes. Generally, trees don’t _have_ to have a root but having a root node is the most common case.\n",
    "- **Child Node**: A Node which is linked to an upper node (_Parent Node_)\n",
    "- **Sibling Node**: Nodes that share same _Parent Node_\n",
    "- **Leaf Node**: A node that doesn’t have any _Child Node_\n",
    "- **Ancestor Nodes**: the nodes on the path from a node _d_ to the root node. Ancestor nodes include node _d_’s parents, grandparents, and so on.\n",
    "\n",
    "Some other common terminologies used in trees:\n",
    "\n",
    "- **Sub-tree**: For a particular non-leaf node, a collection of nodes, essentially the tree, starting from its child node. The tree formed by a node and its descendants.\n",
    "\n",
    "- **Degree of a node**: Total number of children of a node\n",
    "\n",
    "- **Length of a path**: The number of edges in a path\n",
    "\n",
    "- **Depth of a node**: The length of the path from a node _n_ to the root node. The depth of the root node is 0.\n",
    "\n",
    "- **Level of a node**: (Depth of a Node)+1\n",
    "\n",
    "- **Height of a node**: The length of the path from _n_ to its deepest descendant. So the height of the tree itself is the height of the root node and the height of leaf nodes is always 0.\n",
    "\n",
    "- **Height of a Tree**: Height of its root node\n",
    "\n",
    "#### N-ary Tree\n",
    "N-ary tree is a rooted tree in which each node has no more than **N** children. It is also sometimes known as a k-way tree, a k-ary tree, or an M-ary tree. A binary tree is a special case where k=2, so they can have a maximum of 2 child nodes and a minimum of 0 child nodes."
   ]
  },
  {
   "cell_type": "markdown",
   "metadata": {},
   "source": [
    "#### Types of Binary Trees\n",
    "\n",
    "<img src=\"assets/BinaryTree_Complete.png\" width=220 alt=\"Binary Tree\" style=\"background:white\">\n",
    "\n",
    "*A Complete Binary Tree (that is not full)*\n",
    "\n",
    "\n",
    "##### Balanced Binary Trees\n",
    "A tree is balanced if, for each node, the difference between the height of the left subtree and the right subtree is at most one.\n",
    "\n",
    "##### Complete Binary Trees\n",
    "A complete binary tree is a binary tree in which all the levels of the tree are fully filled, except for perhaps the last level which can be filled from left to right.\n",
    "\n",
    "##### Full Binary Trees\n",
    "In a full binary tree, every node has zero or two children. No node can have one child.\n",
    "The max number of nodes in a full binary tree of height $h$ is $≤ 2^{(h + 1)} - 1$\n",
    "\n",
    "##### Perfect Binary Trees\n",
    "A Binary Tree is *perfect* if it is both full and complete. Also,\n",
    "- the total number of nodes in a perfect Binary Tree of height $h$ is: $2^{(h + 1)} - 1$\n",
    "- the total number of leaf nodes is given as: $2^h$ or $\\frac{(n + 1)}{2}$\n"
   ]
  },
  {
   "cell_type": "markdown",
   "metadata": {},
   "source": [
    "#### Find all nodes distance k from a given node in a binary tree\n",
    "The nodes don't have a link to their parent.\n",
    "\n",
    "Hint: How can we get a reference to the parent in O(1)?"
   ]
  },
  {
   "cell_type": "code",
   "execution_count": null,
   "metadata": {},
   "outputs": [],
   "source": [
    "#### Leetcode: Symmetric Tree"
   ]
  },
  {
   "cell_type": "markdown",
   "metadata": {},
   "source": [
    "***\n",
    "$\\mathbf{\\text{Binary Search Tree}}$<br>\n",
    "***"
   ]
  },
  {
   "cell_type": "code",
   "execution_count": null,
   "metadata": {},
   "outputs": [],
   "source": [
    "class Node:\n",
    "    def __init__(self, val, left=None, right=None, parent=None):\n",
    "        self.val = val\n",
    "        self.left = left\n",
    "        self.right = right\n",
    "        self.parent = parent"
   ]
  },
  {
   "cell_type": "code",
   "execution_count": null,
   "metadata": {},
   "outputs": [],
   "source": [
    "class BinarySearchTree:\n",
    "    def __init__(self):\n",
    "        self.root = None\n",
    "\n",
    "    def insert(self, val):\n",
    "        ...\n",
    "\n",
    "    def __contains__(self, val):\n",
    "        ...\n",
    "\n",
    "    def remove(self, val):\n",
    "        ..."
   ]
  },
  {
   "cell_type": "code",
   "execution_count": null,
   "metadata": {},
   "outputs": [],
   "source": [
    "#### Pre-Order Traversal"
   ]
  },
  {
   "cell_type": "code",
   "execution_count": null,
   "metadata": {},
   "outputs": [],
   "source": [
    "#### In-Order Traversal"
   ]
  },
  {
   "cell_type": "code",
   "execution_count": null,
   "metadata": {},
   "outputs": [],
   "source": [
    "#### Iterative In-Order Traversal"
   ]
  },
  {
   "cell_type": "code",
   "execution_count": null,
   "metadata": {},
   "outputs": [],
   "source": [
    "#### Post-Order Traversal"
   ]
  },
  {
   "cell_type": "markdown",
   "metadata": {},
   "source": [
    "#### min() in BST\n",
    "Implement the min(root) function which will find the minimum value in a given Binary Search Tree."
   ]
  },
  {
   "cell_type": "markdown",
   "metadata": {},
   "source": [
    "#### k-th Maximum value\n",
    "Given the root to a Binary Search Tree and a number \"k\" write a function to find the kth maximum value in the tree."
   ]
  },
  {
   "cell_type": "code",
   "execution_count": null,
   "metadata": {},
   "outputs": [],
   "source": [
    "#### Find Ancestors of a given node in a BST"
   ]
  },
  {
   "cell_type": "code",
   "execution_count": null,
   "metadata": {},
   "outputs": [],
   "source": [
    "#### Find the Height of a BST"
   ]
  },
  {
   "cell_type": "code",
   "execution_count": null,
   "metadata": {},
   "outputs": [],
   "source": [
    "#### Print Nodes at \"k\" distance from the Root"
   ]
  },
  {
   "cell_type": "code",
   "execution_count": null,
   "metadata": {},
   "outputs": [],
   "source": [
    "#### Serialize and deserialize BST"
   ]
  },
  {
   "cell_type": "markdown",
   "metadata": {},
   "source": [
    "***\n",
    "$\\mathbf{\\text{Heap}}$<br>\n",
    "***\n",
    "A Heap is a complete Binary Tree that can be stored in an array. \n",
    "\n",
    "In a (max) heap, the max value is always at the root and for each node in the heap, its value is $\\ge$ their children. \n",
    "\n",
    "Heaps support finding the (max) value in $O(1)$ and insertion/deletion in $O(log\\ n)$."
   ]
  },
  {
   "cell_type": "code",
   "execution_count": null,
   "metadata": {},
   "outputs": [],
   "source": [
    "class MaxHeap:\n",
    "    def __init__(self, items=[]):\n",
    "        self.heap = items\n",
    "        ...\n",
    "\n",
    "    def insert(self, key):\n",
    "        ...\n",
    "\n",
    "    def remove(self):\n",
    "        ...\n",
    "\n",
    "    def _max_heapify(self):\n",
    "        ..."
   ]
  },
  {
   "cell_type": "markdown",
   "metadata": {},
   "source": [
    "#### Big-O analysis of building a heap\n",
    "It might seem like the running time it's $O(n\\ log\\ n)$ but it's actually not! \n",
    "\n",
    "Observe that we don't need to max_heapify at the leaves level, and we pay $O(1)$ time for the nodes 1 level above the leaves, and in general $O(h)$ for nodes of height $h$. Also the number of nodes at height $h$ is at most\n",
    "\n",
    "$\\frac{n}{2^{h+1}}$\n",
    "\n",
    "Thus, for a heap of $n$ nodes that has a height of $log(n)$, the running time is\n",
    "\n",
    "$T(h) \\leq \\sum_{i=0}^{log(n)} \\frac{n}{2^{i}} O(i)$\n",
    "\n",
    "$T(h) \\leq O(\\ \\sum_{i=0}^{log(n)} \\frac{n \\times i}{2^{i}}\\ )$\n",
    "\n",
    "$T(h) \\leq O(n \\ \\sum_{i=0}^{log(n)} \\frac{i}{2^{i}}\\ )$\n",
    "\n",
    "The series above is the sum of \n",
    "\n",
    "$\\frac{0}{2^0} + \\frac{1}{2^1} + \\frac{2}{2^2} + \\frac{3}{2^3} + ... + \\frac{n}{2^n}$\n",
    "\n",
    "which is know to be approx 2. Thus\n",
    "\n",
    "$T(h) = O(2n) = O(n)$"
   ]
  },
  {
   "cell_type": "code",
   "execution_count": null,
   "metadata": {},
   "outputs": [],
   "source": [
    "#### Find k smallest elements"
   ]
  },
  {
   "cell_type": "code",
   "execution_count": null,
   "metadata": {},
   "outputs": [],
   "source": [
    "#### Find the running median"
   ]
  },
  {
   "cell_type": "markdown",
   "metadata": {},
   "source": [
    "***\n",
    "$\\mathbf{\\text{Trie}}$<br>\n",
    "***\n",
    "A **Trie** is a tree-like data structure that proves to be really efficient while solving programming problems related to strings.\n",
    "The Trie is derived from \"retrieval\". As you can guess, the main purpose of using this structure is to provide fast retrieval. Tries are mostly used in dictionary word searches, search engine auto-suggestions, and IP routing as well.\n",
    "\n",
    "#### Properties of the Trie\n",
    "- Tries are similar to graphs as they are a combination of nodes where **each node represents a unique letter.**\n",
    "- Each node can point to `None` or other children nodes.\n",
    "- The size of a trie depends upon the number of characters. For example, in the English alphabet, there are 26 letters so the number of unique nodes cannot exceed 26.\n",
    "- The depth of a trie depends on the longest word that it stores.\n",
    "- Another important property of a trie is that it provides the same path for words which share a common prefix. For example, \"there\" and \"their\" have a common prefix \"the.\" Hence, they will share the same path till \"e.\" After that, the path will split into two branches. This is the backbone of the trie functionality.\n",
    "While Tries usually allocate memory for the entire alphabet by using a list of children, it can also be implemented using a Map of children which is memory friendly, proportional to the number of children rather than the alphabet size.\n",
    "This is nice when you have a very large alphabet."
   ]
  },
  {
   "cell_type": "code",
   "execution_count": null,
   "metadata": {},
   "outputs": [],
   "source": [
    "#### Find All Words in Trie"
   ]
  },
  {
   "cell_type": "code",
   "execution_count": null,
   "metadata": {},
   "outputs": [],
   "source": [
    "#### List Sort Using Trie"
   ]
  },
  {
   "cell_type": "markdown",
   "metadata": {},
   "source": [
    "***\n",
    "$\\mathbf{\\text{Graphs}}$<br>\n",
    "***"
   ]
  },
  {
   "cell_type": "markdown",
   "metadata": {},
   "source": [
    "A Graph is a set of **nodes** (_vertices_) connected to each other in the form of a network.\n",
    "Their connections are known as **edges** (or _liks_).\n",
    "An Edge can be uni-directional or bi-directional and it can also have a cost associated with it."
   ]
  },
  {
   "cell_type": "markdown",
   "metadata": {},
   "source": [
    "#### Adjacency List"
   ]
  },
  {
   "cell_type": "code",
   "execution_count": null,
   "metadata": {},
   "outputs": [],
   "source": [
    "class Node:\n",
    "    def __init__(self, value):\n",
    "        self.value = value\n",
    "        self.edges = []\n",
    "\n",
    "Graph: List[Node] = []"
   ]
  },
  {
   "cell_type": "code",
   "execution_count": null,
   "metadata": {},
   "outputs": [],
   "source": [
    "#### Implement BFS"
   ]
  },
  {
   "cell_type": "code",
   "execution_count": null,
   "metadata": {},
   "outputs": [],
   "source": [
    "#### Implement DFS"
   ]
  },
  {
   "cell_type": "code",
   "execution_count": null,
   "metadata": {},
   "outputs": [],
   "source": [
    "#### Detect Cycle in a Directed Graph"
   ]
  },
  {
   "cell_type": "code",
   "execution_count": null,
   "metadata": {},
   "outputs": [],
   "source": [
    "#### Count the number of edges in undirected graph"
   ]
  },
  {
   "cell_type": "code",
   "execution_count": null,
   "metadata": {},
   "outputs": [],
   "source": [
    "#### Check if a Given Undirected Graph is Tree"
   ]
  },
  {
   "cell_type": "code",
   "execution_count": null,
   "metadata": {},
   "outputs": [],
   "source": [
    "#### Shortest Path Between Two Vertices"
   ]
  },
  {
   "cell_type": "code",
   "execution_count": null,
   "metadata": {},
   "outputs": [],
   "source": [
    "#### Remove Edge"
   ]
  },
  {
   "cell_type": "code",
   "execution_count": null,
   "metadata": {},
   "outputs": [],
   "source": [
    "#### Topological Graph Sort"
   ]
  },
  {
   "cell_type": "markdown",
   "metadata": {},
   "source": [
    "#### Adjacency Matrix"
   ]
  },
  {
   "cell_type": "code",
   "execution_count": null,
   "metadata": {},
   "outputs": [],
   "source": [
    "\"\"\"\n",
    "Adjacency Matrix is a two-dimensional array with the rows and columns represent vertex pairs and the cells `M[i][j]` contain a `1` if there is an edge between the corresponding vertices or a `0` if there is no edge. \n",
    "\"\"\"\n",
    "def zeroes(rows, cols):\n",
    "    return [ [0] * cols for r in range(rows) ]\n",
    "\n",
    "def graph_matrix(vertices):\n",
    "    Matrix = zeroes(vertices, vertices)\n",
    "    return Matrix\n",
    "\n",
    "def edges(Matrix, pairs):\n",
    "    for i, j in pairs:\n",
    "        Matrix[i][j] = 1\n",
    "    return Matrix\n",
    "\n",
    "# Make a graph like 0 -> 1 <-> 2\n",
    "#                   -----------^\n",
    "G = graph_matrix(3)\n",
    "G = edges(G, [(0, 1), (0, 2), (1, 2), (2, 0), (2, 1)])\n",
    "print(G[0])\n",
    "print(G[1])\n",
    "print(G[2])"
   ]
  }
 ],
 "metadata": {
  "kernelspec": {
   "display_name": "Python 3.9.11 64-bit ('3.9.11')",
   "language": "python",
   "name": "python3"
  },
  "language_info": {
   "codemirror_mode": {
    "name": "ipython",
    "version": 3
   },
   "file_extension": ".py",
   "mimetype": "text/x-python",
   "name": "python",
   "nbconvert_exporter": "python",
   "pygments_lexer": "ipython3",
   "version": "3.9.11"
  },
  "orig_nbformat": 2,
  "vscode": {
   "interpreter": {
    "hash": "a4c4c0015761dd96035e8a513ef7a2c5b4bcea26b53f189840ae32b47b903750"
   }
  }
 },
 "nbformat": 4,
 "nbformat_minor": 2
}
